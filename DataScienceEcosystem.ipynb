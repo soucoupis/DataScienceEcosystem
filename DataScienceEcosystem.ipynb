{
 "cells": [
  {
   "cell_type": "markdown",
   "id": "2f4952cd-8b18-4d4d-8d98-e17710fef73e",
   "metadata": {},
   "source": [
    "# Data Science Tools and Ecosystem "
   ]
  },
  {
   "cell_type": "markdown",
   "id": "6470f114-90a6-46f7-8b88-eacca514a8fb",
   "metadata": {},
   "source": [
    "In this notebook, Data Science Tools and Ecosystem are summarized.\n",
    "\n"
   ]
  },
  {
   "cell_type": "markdown",
   "id": "4305f90b-e1a7-4071-9a7a-b8e18f9291fd",
   "metadata": {},
   "source": [
    "**Objectives**:\n",
    "- List popular language \n",
    "- Identify the users and benefits of Python\n",
    "- Identify the users and uses of R language\n",
    "\n",
    "    "
   ]
  },
  {
   "cell_type": "markdown",
   "id": "8c9b88eb-48db-465d-88c7-72f3f9adb26e",
   "metadata": {},
   "source": [
    "Some of the popular languages that Data Scientists use are:\n",
    "    1.Python\n",
    "    2.R\n",
    "    3.Julia \n",
    "    4.SQL ... "
   ]
  },
  {
   "cell_type": "markdown",
   "id": "a08595cf-b949-4a82-a1b8-ab1fad11ace3",
   "metadata": {},
   "source": [
    "Some of the commonly used libraries used by Data Scientists include:\n",
    "1.Pandas\n",
    "2.Scikit-learn\n",
    "3.Numpy\n",
    "4.Matplotlib\n",
    "\n"
   ]
  },
  {
   "cell_type": "markdown",
   "id": "c7a6a501-226d-4b23-9de6-f509a15b6bd6",
   "metadata": {},
   "source": [
    "| Data Science Tools |\n",
    "----------------------\n",
    "| Apache Spark|\n",
    "| RStudio|\n",
    "| Tensorflow|"
   ]
  },
  {
   "cell_type": "markdown",
   "id": "b884c30a-7872-44c7-a0e1-42f6e90021c4",
   "metadata": {},
   "source": [
    "### Below are a few examples of evaluating arithmetic expressions in Python."
   ]
  },
  {
   "cell_type": "code",
   "execution_count": 2,
   "id": "eafb32d4-c392-4568-9ed3-0850de09d359",
   "metadata": {
    "tags": []
   },
   "outputs": [
    {
     "data": {
      "text/plain": [
       "17"
      ]
     },
     "execution_count": 2,
     "metadata": {},
     "output_type": "execute_result"
    }
   ],
   "source": [
    "# This a simple arithmetic expression to mutiply then add integers\n",
    "(3*4)+5"
   ]
  },
  {
   "cell_type": "code",
   "execution_count": 6,
   "id": "8a8376ee-445d-43a8-9f45-422446535d10",
   "metadata": {
    "tags": []
   },
   "outputs": [
    {
     "data": {
      "text/plain": [
       "3"
      ]
     },
     "execution_count": 6,
     "metadata": {},
     "output_type": "execute_result"
    }
   ],
   "source": [
    "# This will convert 200 minutes to hours by diving by 60\n",
    "200//60"
   ]
  },
  {
   "cell_type": "markdown",
   "id": "7d5b0a97-7612-4e20-9fc2-9697c4e0ac65",
   "metadata": {},
   "source": [
    "## Author\n",
    "Bassam EL HAYEK"
   ]
  },
  {
   "cell_type": "code",
   "execution_count": null,
   "id": "d3c350c0-9f0b-4d98-9c39-3cbb7d3ab081",
   "metadata": {},
   "outputs": [],
   "source": []
  }
 ],
 "metadata": {
  "kernelspec": {
   "display_name": "Python",
   "language": "python",
   "name": "conda-env-python-py"
  },
  "language_info": {
   "codemirror_mode": {
    "name": "ipython",
    "version": 3
   },
   "file_extension": ".py",
   "mimetype": "text/x-python",
   "name": "python",
   "nbconvert_exporter": "python",
   "pygments_lexer": "ipython3",
   "version": "3.7.12"
  }
 },
 "nbformat": 4,
 "nbformat_minor": 5
}
